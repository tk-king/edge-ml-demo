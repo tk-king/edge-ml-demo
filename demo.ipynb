{
 "cells": [
  {
   "cell_type": "code",
   "execution_count": 240,
   "metadata": {},
   "outputs": [],
   "source": [
    "from edgeml import edgeml\n",
    "import pandas as pd\n",
    "import numpy as np\n",
    "from matplotlib import pyplot as plt\n",
    "from sklearn.model_selection import train_test_split\n",
    "from sklearn.tree import DecisionTreeClassifier\n",
    "from sklearn.metrics import accuracy_score"
   ]
  },
  {
   "cell_type": "code",
   "execution_count": 241,
   "metadata": {},
   "outputs": [],
   "source": [
    "BACKEND_URL = \"https://beta.edge-ml.org\"\n",
    "READ_KEY = \"86a0e3e2fdbe2835b49463fe99f62af8\"\n",
    "\n",
    "\n",
    "WINDOW_LEN = 20\n",
    "WINDOW_OVERLAP = 10\n",
    "\n",
    "\n",
    "datasetRetriever = edgeml.DatasetReceiver(BACKEND_URL, READ_KEY)\n",
    "datasetRetriever.loadData()\n",
    "datasets = datasetRetriever.datasets"
   ]
  },
  {
   "cell_type": "markdown",
   "metadata": {},
   "source": [
    "# Used labels"
   ]
  },
  {
   "cell_type": "code",
   "execution_count": 242,
   "metadata": {},
   "outputs": [
    {
     "name": "stdout",
     "output_type": "stream",
     "text": [
      "Labelings in project:  ShakeRest\n"
     ]
    }
   ],
   "source": [
    "labelings = datasetRetriever.labeligns\n",
    "print(\"Labelings in project: \", \",\".join([x[\"name\"] for x in labelings]))\n",
    "\n",
    "labelingId = labelings[0][\"_id\"]\n",
    "\n",
    "datasetRetriever.labeligns[0][\"labels\"]\n",
    "labelingMap = {x[\"_id\"]: x for x in datasetRetriever.labeligns[0][\"labels\"]}"
   ]
  },
  {
   "cell_type": "markdown",
   "metadata": {},
   "source": [
    "## Convert datasets to numpy array"
   ]
  },
  {
   "cell_type": "code",
   "execution_count": 243,
   "metadata": {},
   "outputs": [],
   "source": [
    "def datasets_to_numpy(datasets):\n",
    "    res_datasets = []\n",
    "    for dataset in datasets:\n",
    "        merged_df = dataset.timeSeries[0].data\n",
    "        for time_series in dataset.timeSeries[1:]:\n",
    "            merged_df = pd.merge(merged_df, time_series.data, on=\"time\", how=\"outer\")\n",
    "        merged_df.sort_values(by=\"time\", inplace=True)\n",
    "        merged_df.reset_index(drop=True, inplace=True)\n",
    "\n",
    "        interpol_df = merged_df.interpolate(method=\"linear\").fillna(method=\"ffill\").fillna(method=\"bfill\")\n",
    "        interpol_df[\"time\"] = interpol_df[\"time\"].values.astype(np.int64) // 10**6\n",
    "\n",
    "        labels = next((labeling.labels for labeling in dataset.labelings if labeling.name == \"ShakeRest\"), None)\n",
    "\n",
    "        if labels is None:\n",
    "            continue\n",
    "\n",
    "        interpol_df[\"label\"] = \"\"\n",
    "        for label in labels:\n",
    "            interpol_df.loc[(interpol_df[\"time\"] >= label.start) & (interpol_df[\"time\"] <= label.end), \"label\"] = labelingMap[label.type][\"name\"]\n",
    "\n",
    "        interpol_df.drop(columns=[\"time\"], inplace=True)\n",
    "        res_datasets.append(interpol_df.to_numpy())\n",
    "    return res_datasets"
   ]
  },
  {
   "cell_type": "code",
   "execution_count": 244,
   "metadata": {},
   "outputs": [],
   "source": [
    "# Window the data\n",
    "\n",
    "def window_data(datasets):\n",
    "    windows = []\n",
    "    for data in datasets:\n",
    "        for i in range(0, len(data) - WINDOW_LEN, WINDOW_OVERLAP):\n",
    "            windows.append(data[i:i+WINDOW_LEN])\n",
    "        \n",
    "    window_labels = np.array(windows)[:, :,-1]\n",
    "        # Reduce to most likely label\n",
    "    window_labels = np.array([max(set(x), key=list(x).count) for x in window_labels])\n",
    "    return np.array(windows)[:, :,:-1], window_labels"
   ]
  },
  {
   "cell_type": "code",
   "execution_count": 245,
   "metadata": {},
   "outputs": [],
   "source": [
    "# Train a decision tree model\n",
    "\n",
    "\n",
    "def train_classifier(X_data, Y_data):\n",
    "    clf = DecisionTreeClassifier()\n",
    "    clf.fit(X_data.reshape(X_data.shape[0], -1), Y_data)\n",
    "    return clf\n",
    "\n",
    "def evaluate_classifier(clf, X_data, Y_data):\n",
    "    y_pred = clf.predict(X_data.reshape(X_data.shape[0], -1))\n",
    "    accuracy = accuracy_score(Y_data, y_pred)\n",
    "    return accuracy\n",
    "\n"
   ]
  },
  {
   "cell_type": "code",
   "execution_count": 246,
   "metadata": {},
   "outputs": [
    {
     "name": "stdout",
     "output_type": "stream",
     "text": [
      "Accuracy:  0.8333333333333334\n"
     ]
    },
    {
     "name": "stderr",
     "output_type": "stream",
     "text": [
      "/var/folders/c7/01xzhz690mj0sss9z1vdfwqc0000gn/T/ipykernel_18950/1898868556.py:10: FutureWarning: DataFrame.fillna with 'method' is deprecated and will raise in a future version. Use obj.ffill() or obj.bfill() instead.\n",
      "  interpol_df = merged_df.interpolate(method=\"linear\").fillna(method=\"ffill\").fillna(method=\"bfill\")\n",
      "/var/folders/c7/01xzhz690mj0sss9z1vdfwqc0000gn/T/ipykernel_18950/1898868556.py:10: FutureWarning: DataFrame.fillna with 'method' is deprecated and will raise in a future version. Use obj.ffill() or obj.bfill() instead.\n",
      "  interpol_df = merged_df.interpolate(method=\"linear\").fillna(method=\"ffill\").fillna(method=\"bfill\")\n"
     ]
    }
   ],
   "source": [
    "datasets = datasets_to_numpy(datasets)\n",
    "X_data, Y_data = window_data(datasets)\n",
    "X_train, X_test, Y_train, Y_test = train_test_split(X_data, Y_data, test_size=0.2, random_state=42)\n",
    "clf = train_classifier(X_train, Y_train)\n",
    "accuracy = evaluate_classifier(clf, X_test, Y_test)\n",
    "print(\"Accuracy: \", accuracy)"
   ]
  },
  {
   "cell_type": "code",
   "execution_count": null,
   "metadata": {},
   "outputs": [],
   "source": []
  }
 ],
 "metadata": {
  "kernelspec": {
   "display_name": "edgemlml",
   "language": "python",
   "name": "python3"
  },
  "language_info": {
   "codemirror_mode": {
    "name": "ipython",
    "version": 3
   },
   "file_extension": ".py",
   "mimetype": "text/x-python",
   "name": "python",
   "nbconvert_exporter": "python",
   "pygments_lexer": "ipython3",
   "version": "3.10.0"
  }
 },
 "nbformat": 4,
 "nbformat_minor": 2
}
