{
 "cells": [
  {
   "cell_type": "markdown",
   "metadata": {},
   "source": [
    "# Edge-ml example: Train a classifier from data stored on edgeml"
   ]
  },
  {
   "cell_type": "code",
   "execution_count": 91,
   "metadata": {},
   "outputs": [],
   "source": [
    "from edgeml import edgeml\n",
    "import pandas as pd\n",
    "import numpy as np\n",
    "from matplotlib import pyplot as plt\n",
    "from sklearn.model_selection import train_test_split\n",
    "from sklearn.tree import DecisionTreeClassifier\n",
    "from sklearn.metrics import accuracy_score, f1_score, precision_score, recall_score\n",
    "from sklearn.preprocessing import Normalizer"
   ]
  },
  {
   "cell_type": "markdown",
   "metadata": {},
   "source": [
    "#### Set some global variables"
   ]
  },
  {
   "cell_type": "code",
   "execution_count": 92,
   "metadata": {},
   "outputs": [],
   "source": [
    "BACKEND_URL = \"https://beta.edge-ml.org\" # You don't need to change this\n",
    "READ_KEY = \"86a0e3e2fdbe2835b49463fe99f62af8\" # Enter your own key here\n",
    "\n",
    "# Set parameters as you wish\n",
    "LABELING_NAME = \"ShakeRest\"\n",
    "\n",
    "WINDOW_LEN = 20\n",
    "WINDOW_OVERLAP = 10"
   ]
  },
  {
   "cell_type": "markdown",
   "metadata": {},
   "source": [
    "#### Load the data from edge-ml"
   ]
  },
  {
   "cell_type": "code",
   "execution_count": 93,
   "metadata": {},
   "outputs": [
    {
     "name": "stdout",
     "output_type": "stream",
     "text": [
      "Labelings in project:  ShakeRest\n"
     ]
    }
   ],
   "source": [
    "datasetRetriever = edgeml.DatasetReceiver(BACKEND_URL, READ_KEY)\n",
    "datasetRetriever.loadData()\n",
    "datasets = datasetRetriever.datasets\n",
    "\n",
    "labelings = datasetRetriever.labeligns\n",
    "print(\"Labelings in project: \", \",\".join([x[\"name\"] for x in labelings]))\n",
    "\n",
    "labelingMap = {x[\"_id\"]: x for x in datasetRetriever.labeligns[0][\"labels\"]}"
   ]
  },
  {
   "cell_type": "markdown",
   "metadata": {},
   "source": [
    "#### Convert datasets to numpy array"
   ]
  },
  {
   "cell_type": "code",
   "execution_count": 94,
   "metadata": {},
   "outputs": [],
   "source": [
    "def datasets_to_numpy(datasets):\n",
    "    res_datasets = []\n",
    "    for dataset in datasets:\n",
    "        merged_df = dataset.timeSeries[0].data\n",
    "        for time_series in dataset.timeSeries[1:]:\n",
    "            merged_df = pd.merge(merged_df, time_series.data, on=\"time\", how=\"outer\")\n",
    "        merged_df.sort_values(by=\"time\", inplace=True)\n",
    "        merged_df.reset_index(drop=True, inplace=True)\n",
    "\n",
    "        interpol_df = merged_df.interpolate(method=\"linear\").ffill().bfill()\n",
    "        interpol_df[\"time\"] = interpol_df[\"time\"].values.astype(np.int64) // 10**6\n",
    "\n",
    "        labels = next((labeling.labels for labeling in dataset.labelings if labeling.name == LABELING_NAME), None)\n",
    "\n",
    "        if labels is None:\n",
    "            continue\n",
    "\n",
    "        interpol_df[\"label\"] = \"\"\n",
    "        for label in labels:\n",
    "            interpol_df.loc[(interpol_df[\"time\"] >= label.start) & (interpol_df[\"time\"] <= label.end), \"label\"] = labelingMap[label.type][\"name\"]\n",
    "\n",
    "        interpol_df.drop(columns=[\"time\"], inplace=True)\n",
    "        res_datasets.append(interpol_df.to_numpy())\n",
    "    return res_datasets"
   ]
  },
  {
   "cell_type": "markdown",
   "metadata": {},
   "source": [
    "#### Window the data"
   ]
  },
  {
   "cell_type": "code",
   "execution_count": 95,
   "metadata": {},
   "outputs": [],
   "source": [
    "def window_data(datasets):\n",
    "    windows = []\n",
    "    for data in datasets:\n",
    "        for i in range(0, len(data) - WINDOW_LEN, WINDOW_OVERLAP):\n",
    "            windows.append(data[i:i+WINDOW_LEN])\n",
    "        \n",
    "    window_labels = np.array(windows)[:, :,-1]\n",
    "        # Reduce to most likely label\n",
    "    window_labels = np.array([max(set(x), key=list(x).count) for x in window_labels])\n",
    "    return np.array(windows)[:, :,:-1], window_labels"
   ]
  },
  {
   "cell_type": "markdown",
   "metadata": {},
   "source": [
    "#### Normalize the data"
   ]
  },
  {
   "cell_type": "code",
   "execution_count": 96,
   "metadata": {},
   "outputs": [],
   "source": [
    "def normalize(X_train, X_test, Y_train, Y_test):\n",
    "    normalizer = Normalizer()\n",
    "    X_train = normalizer.fit_transform(X_train)\n",
    "    X_test = normalizer.transform(X_test)\n",
    "    return X_train, X_test, Y_train, Y_test"
   ]
  },
  {
   "cell_type": "markdown",
   "metadata": {},
   "source": [
    "#### Classifier"
   ]
  },
  {
   "cell_type": "code",
   "execution_count": 97,
   "metadata": {},
   "outputs": [],
   "source": [
    "def train_classifier(X_data, Y_data):\n",
    "    clf = DecisionTreeClassifier()\n",
    "    clf.fit(X_data, Y_data)\n",
    "    return clf\n",
    "\n",
    "def evaluate_classifier(clf, X_data, Y_data):\n",
    "    y_pred = clf.predict(X_data)\n",
    "    accuracy = accuracy_score(Y_data, y_pred)\n",
    "    f1 = f1_score(Y_data, y_pred, average='weighted')\n",
    "    precision = precision_score(Y_data, y_pred, average='weighted')\n",
    "    recall = recall_score(Y_data, y_pred, average='weighted')\n",
    "    return accuracy, f1, precision, recall\n",
    "\n"
   ]
  },
  {
   "cell_type": "markdown",
   "metadata": {},
   "source": [
    "### Put it all together"
   ]
  },
  {
   "cell_type": "code",
   "execution_count": 98,
   "metadata": {},
   "outputs": [
    {
     "name": "stdout",
     "output_type": "stream",
     "text": [
      "Accuracy: 88.89%\n",
      "F1 Score: 88.78%\n",
      "Precision: 89.44%\n",
      "Recall: 88.89%\n"
     ]
    }
   ],
   "source": [
    "datasets = datasets_to_numpy(datasets)\n",
    "X_data, Y_data = window_data(datasets)\n",
    "X_train, X_test, Y_train, Y_test = train_test_split(X_data, Y_data, test_size=0.2, random_state=42)\n",
    "\n",
    "# Flatten the arrays for sklearn\n",
    "X_train = X_train.reshape(X_train.shape[0], -1)\n",
    "X_test = X_test.reshape(X_test.shape[0], -1)\n",
    "\n",
    "X_train, X_test, Y_train, Y_test = normalize(X_train, X_test, Y_train, Y_test)\n",
    "clf = train_classifier(X_train, Y_train)\n",
    "accuracy, f1_score, precision, recall = evaluate_classifier(clf, X_test, Y_test)\n",
    "print(\"Accuracy: {:.2f}%\".format(accuracy * 100))\n",
    "print(\"F1 Score: {:.2f}%\".format(f1_score * 100))\n",
    "print(\"Precision: {:.2f}%\".format(precision * 100))\n",
    "print(\"Recall: {:.2f}%\".format(recall * 100))\n"
   ]
  }
 ],
 "metadata": {
  "kernelspec": {
   "display_name": "edgemlml",
   "language": "python",
   "name": "python3"
  },
  "language_info": {
   "codemirror_mode": {
    "name": "ipython",
    "version": 3
   },
   "file_extension": ".py",
   "mimetype": "text/x-python",
   "name": "python",
   "nbconvert_exporter": "python",
   "pygments_lexer": "ipython3",
   "version": "3.10.0"
  }
 },
 "nbformat": 4,
 "nbformat_minor": 2
}
