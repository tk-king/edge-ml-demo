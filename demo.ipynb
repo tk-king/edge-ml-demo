{
 "cells": [
  {
   "cell_type": "markdown",
   "metadata": {},
   "source": [
    "# Edge-ml example: Train a classifier from data stored on edgeml"
   ]
  },
  {
   "cell_type": "code",
   "execution_count": 14,
   "metadata": {},
   "outputs": [],
   "source": [
    "from edgeml import edgeml\n",
    "import pandas as pd\n",
    "import numpy as np\n",
    "from sklearn.model_selection import train_test_split\n",
    "from sklearn.tree import DecisionTreeClassifier\n",
    "from sklearn.metrics import accuracy_score, f1_score, precision_score, recall_score\n",
    "from sklearn.preprocessing import Normalizer\n",
    "from keras.models import Sequential\n",
    "from keras.layers import Dense, Flatten\n",
    "from keras.utils import to_categorical\n",
    "import tensorflow as tf"
   ]
  },
  {
   "cell_type": "markdown",
   "metadata": {},
   "source": [
    "#### Set some global variables"
   ]
  },
  {
   "cell_type": "code",
   "execution_count": 15,
   "metadata": {},
   "outputs": [],
   "source": [
    "BACKEND_URL = \"https://beta.edge-ml.org\" # You don't need to change this\n",
    "READ_KEY = \"86a0e3e2fdbe2835b49463fe99f62af8\" # Enter your own key here\n",
    "\n",
    "# Set parameters as you wish\n",
    "LABELING_NAME = \"ShakeRest\"\n",
    "\n",
    "WINDOW_LEN = 20\n",
    "WINDOW_OVERLAP = 10"
   ]
  },
  {
   "cell_type": "markdown",
   "metadata": {},
   "source": [
    "#### Load the data from edge-ml"
   ]
  },
  {
   "cell_type": "code",
   "execution_count": 16,
   "metadata": {},
   "outputs": [
    {
     "name": "stdout",
     "output_type": "stream",
     "text": [
      "Labelings in project:  ShakeRest\n"
     ]
    }
   ],
   "source": [
    "datasetRetriever = edgeml.DatasetReceiver(BACKEND_URL, READ_KEY)\n",
    "datasetRetriever.loadData()\n",
    "datasets = datasetRetriever.datasets\n",
    "\n",
    "labelings = datasetRetriever.labeligns\n",
    "print(\"Labelings in project: \", \",\".join([x[\"name\"] for x in labelings]))\n",
    "\n",
    "labelingMap = {x[\"_id\"]: x for x in datasetRetriever.labeligns[0][\"labels\"]}"
   ]
  },
  {
   "cell_type": "markdown",
   "metadata": {},
   "source": [
    "#### Convert datasets to numpy array"
   ]
  },
  {
   "cell_type": "code",
   "execution_count": 17,
   "metadata": {},
   "outputs": [],
   "source": [
    "def datasets_to_numpy(datasets):\n",
    "    res_datasets = []\n",
    "    for dataset in datasets:\n",
    "        merged_df = dataset.timeSeries[0].data\n",
    "        for time_series in dataset.timeSeries[1:]:\n",
    "            merged_df = pd.merge(merged_df, time_series.data, on=\"time\", how=\"outer\")\n",
    "        merged_df.sort_values(by=\"time\", inplace=True)\n",
    "        merged_df.reset_index(drop=True, inplace=True)\n",
    "\n",
    "        interpol_df = merged_df.interpolate(method=\"linear\").ffill().bfill()\n",
    "        interpol_df[\"time\"] = interpol_df[\"time\"].values.astype(np.int64) // 10**6\n",
    "\n",
    "        labels = next((labeling.labels for labeling in dataset.labelings if labeling.name == LABELING_NAME), None)\n",
    "\n",
    "        if labels is None:\n",
    "            continue\n",
    "\n",
    "        interpol_df[\"label\"] = \"\"\n",
    "        for label in labels:\n",
    "            interpol_df.loc[(interpol_df[\"time\"] >= label.start) & (interpol_df[\"time\"] <= label.end), \"label\"] = labelingMap[label.type][\"name\"]\n",
    "\n",
    "        interpol_df.drop(columns=[\"time\"], inplace=True)\n",
    "        res_datasets.append(interpol_df.to_numpy())\n",
    "    return res_datasets"
   ]
  },
  {
   "cell_type": "markdown",
   "metadata": {},
   "source": [
    "#### Window the data"
   ]
  },
  {
   "cell_type": "code",
   "execution_count": 18,
   "metadata": {},
   "outputs": [],
   "source": [
    "def window_data(datasets):\n",
    "    windows = []\n",
    "    for data in datasets:\n",
    "        for i in range(0, len(data) - WINDOW_LEN, WINDOW_OVERLAP):\n",
    "            windows.append(data[i:i+WINDOW_LEN])\n",
    "\n",
    "    window_labels = np.array(windows)[:, :,-1]\n",
    "    # Reduce to most likely label\n",
    "    window_labels = np.array([max(set(x), key=list(x).count) for x in window_labels])\n",
    "    \n",
    "    windows = np.array(windows)[:, :,:-1]\n",
    "\n",
    "    # Filter out windows with no label\n",
    "    windows = windows[window_labels != \"\"]\n",
    "    window_labels = window_labels[window_labels != \"\"]\n",
    "\n",
    "    # window_labels are strings, convert to integers starting from 0\n",
    "    unique_labels = np.unique(window_labels)\n",
    "    label_map = {label: i for i, label in enumerate(unique_labels)}\n",
    "    window_labels = np.array([label_map[label] for label in window_labels])\n",
    "\n",
    "    return windows, window_labels"
   ]
  },
  {
   "cell_type": "markdown",
   "metadata": {},
   "source": [
    "#### Normalize the data"
   ]
  },
  {
   "cell_type": "code",
   "execution_count": 19,
   "metadata": {},
   "outputs": [],
   "source": [
    "def normalize(X_train, X_test, Y_train, Y_test):\n",
    "    normalizer = Normalizer()\n",
    "    X_train = normalizer.fit_transform(X_train)\n",
    "    X_test = normalizer.transform(X_test)\n",
    "    return X_train, X_test, Y_train, Y_test"
   ]
  },
  {
   "cell_type": "markdown",
   "metadata": {},
   "source": [
    "#### Classifier"
   ]
  },
  {
   "cell_type": "code",
   "execution_count": 20,
   "metadata": {},
   "outputs": [],
   "source": [
    "class BaseModel:\n",
    "    def train(self, X_data, Y_data):\n",
    "        raise NotImplementedError(\"The train method must be implemented by the subclass.\")\n",
    "\n",
    "    def predict(self, X_data):\n",
    "        raise NotImplementedError(\"The predict method must be implemented by the subclass.\")\n",
    "\n",
    "    def evaluate(self, X_data, Y_data):\n",
    "        y_pred = self.predict(X_data)\n",
    "        accuracy = accuracy_score(Y_data, y_pred)\n",
    "        f1 = f1_score(Y_data, y_pred, average='weighted')\n",
    "        precision = precision_score(Y_data, y_pred, average='weighted')\n",
    "        recall = recall_score(Y_data, y_pred, average='weighted')\n",
    "        return accuracy, f1, precision, recall\n",
    "\n",
    "    def print_metrics(self, X_data, Y_data):\n",
    "        accuracy, f1, precision, recall = self.evaluate(X_data, Y_data)\n",
    "        print(f\"Metrics - {self.__class__.__name__}:\\n\"\n",
    "              f\"  Accuracy: {accuracy:.4f}\\n\"\n",
    "              f\"  F1 Score: {f1:.4f}\\n\"\n",
    "              f\"  Precision: {precision:.4f}\\n\"\n",
    "              f\"  Recall: {recall:.4f}\")\n",
    "\n",
    "\n",
    "class DecisionTreeModel(BaseModel):\n",
    "    def __init__(self):\n",
    "        self.model = DecisionTreeClassifier()\n",
    "\n",
    "    def train(self, X_data, Y_data):\n",
    "        self.model.fit(X_data, Y_data)\n",
    "\n",
    "    def predict(self, X_data):\n",
    "        return self.model.predict(X_data)\n",
    "\n",
    "\n",
    "class DenseNNModel(BaseModel):\n",
    "    def __init__(self):\n",
    "        self.model = None\n",
    "\n",
    "    def train(self, X_data, Y_data):\n",
    "        Y_data = to_categorical(Y_data)\n",
    "        self.model = Sequential([\n",
    "            Flatten(),\n",
    "            Dense(256, activation='relu'),\n",
    "            Dense(256, activation='relu'),\n",
    "            Dense(2, activation='relu'),\n",
    "            Dense(Y_data.shape[-1], activation='softmax')\n",
    "        ])\n",
    "        self.model.compile(loss='categorical_crossentropy', optimizer='adam', metrics=['accuracy'])\n",
    "        self.model.fit(X_data, Y_data, epochs=10, batch_size=32, verbose=0)\n",
    "\n",
    "    def predict(self, X_data):\n",
    "        y_pred = self.model.predict(X_data, verbose=0)\n",
    "        return np.argmax(y_pred, axis=1)"
   ]
  },
  {
   "cell_type": "markdown",
   "metadata": {},
   "source": [
    "### Put it all together"
   ]
  },
  {
   "cell_type": "code",
   "execution_count": 21,
   "metadata": {},
   "outputs": [
    {
     "name": "stdout",
     "output_type": "stream",
     "text": [
      "Metrics - DecisionTreeModel:\n",
      "  Accuracy: 0.9333\n",
      "  F1 Score: 0.9327\n",
      "  Precision: 0.9407\n",
      "  Recall: 0.9333\n",
      "Metrics - DenseNNModel:\n",
      "  Accuracy: 1.0000\n",
      "  F1 Score: 1.0000\n",
      "  Precision: 1.0000\n",
      "  Recall: 1.0000\n"
     ]
    }
   ],
   "source": [
    "datasets = datasets_to_numpy(datasets)\n",
    "X_data, Y_data = window_data(datasets)\n",
    "X_train, X_test, Y_train, Y_test = train_test_split(X_data, Y_data, test_size=0.2, random_state=42)\n",
    "\n",
    "# Flatten the arrays for sklearn\n",
    "X_train = X_train.reshape(X_train.shape[0], -1)\n",
    "X_test = X_test.reshape(X_test.shape[0], -1)\n",
    "\n",
    "X_train, X_test, Y_train, Y_test = normalize(X_train, X_test, Y_train, Y_test)\n",
    "\n",
    "# Decision Tree\n",
    "dt_model = DecisionTreeModel()\n",
    "dt_model.train(X_train, Y_train)\n",
    "dt_model.print_metrics(X_test, Y_test)\n",
    "\n",
    "# Dense Neural Network\n",
    "nn_model = DenseNNModel()\n",
    "nn_model.train(X_train, Y_train)\n",
    "nn_model.print_metrics(X_test, Y_test)"
   ]
  },
  {
   "cell_type": "markdown",
   "metadata": {},
   "source": [
    "#### Quantize NN\n",
    "\n",
    "In order to save space, speed up compute and reduce RAM usage quantization can be applied:\n",
    "See: https://www.tensorflow.org/model_optimization/guide/quantization/post_training"
   ]
  },
  {
   "cell_type": "code",
   "execution_count": 22,
   "metadata": {},
   "outputs": [
    {
     "name": "stdout",
     "output_type": "stream",
     "text": [
      "INFO:tensorflow:Assets written to: /var/folders/c7/01xzhz690mj0sss9z1vdfwqc0000gn/T/tmptcip8y5a/assets\n"
     ]
    },
    {
     "name": "stderr",
     "output_type": "stream",
     "text": [
      "INFO:tensorflow:Assets written to: /var/folders/c7/01xzhz690mj0sss9z1vdfwqc0000gn/T/tmptcip8y5a/assets\n"
     ]
    },
    {
     "name": "stdout",
     "output_type": "stream",
     "text": [
      "Saved artifact at '/var/folders/c7/01xzhz690mj0sss9z1vdfwqc0000gn/T/tmptcip8y5a'. The following endpoints are available:\n",
      "\n",
      "* Endpoint 'serve'\n",
      "  args_0 (POSITIONAL_ONLY): TensorSpec(shape=(None, 180), dtype=tf.float32, name='keras_tensor_6')\n",
      "Output Type:\n",
      "  TensorSpec(shape=(None, 2), dtype=tf.float32, name=None)\n",
      "Captures:\n",
      "  13011985296: TensorSpec(shape=(), dtype=tf.resource, name=None)\n",
      "  13011987600: TensorSpec(shape=(), dtype=tf.resource, name=None)\n",
      "  13011987984: TensorSpec(shape=(), dtype=tf.resource, name=None)\n",
      "  13011988944: TensorSpec(shape=(), dtype=tf.resource, name=None)\n",
      "  13011989328: TensorSpec(shape=(), dtype=tf.resource, name=None)\n",
      "  13011990288: TensorSpec(shape=(), dtype=tf.resource, name=None)\n",
      "  13011989712: TensorSpec(shape=(), dtype=tf.resource, name=None)\n",
      "  13011991056: TensorSpec(shape=(), dtype=tf.resource, name=None)\n",
      "Non-quanized model len:  453312\n",
      "INFO:tensorflow:Assets written to: /var/folders/c7/01xzhz690mj0sss9z1vdfwqc0000gn/T/tmpf5tz0f7o/assets\n"
     ]
    },
    {
     "name": "stderr",
     "output_type": "stream",
     "text": [
      "W0000 00:00:1733840821.704671 4200472 tf_tfl_flatbuffer_helpers.cc:365] Ignored output_format.\n",
      "W0000 00:00:1733840821.704687 4200472 tf_tfl_flatbuffer_helpers.cc:368] Ignored drop_control_dependency.\n",
      "2024-12-10 15:27:01.704823: I tensorflow/cc/saved_model/reader.cc:83] Reading SavedModel from: /var/folders/c7/01xzhz690mj0sss9z1vdfwqc0000gn/T/tmptcip8y5a\n",
      "2024-12-10 15:27:01.705229: I tensorflow/cc/saved_model/reader.cc:52] Reading meta graph with tags { serve }\n",
      "2024-12-10 15:27:01.705235: I tensorflow/cc/saved_model/reader.cc:147] Reading SavedModel debug info (if present) from: /var/folders/c7/01xzhz690mj0sss9z1vdfwqc0000gn/T/tmptcip8y5a\n",
      "2024-12-10 15:27:01.708578: I tensorflow/cc/saved_model/loader.cc:236] Restoring SavedModel bundle.\n",
      "2024-12-10 15:27:01.729956: I tensorflow/cc/saved_model/loader.cc:220] Running initialization op on SavedModel bundle at path: /var/folders/c7/01xzhz690mj0sss9z1vdfwqc0000gn/T/tmptcip8y5a\n",
      "2024-12-10 15:27:01.736743: I tensorflow/cc/saved_model/loader.cc:466] SavedModel load for tags { serve }; Status: success: OK. Took 31922 microseconds.\n",
      "INFO:tensorflow:Assets written to: /var/folders/c7/01xzhz690mj0sss9z1vdfwqc0000gn/T/tmpf5tz0f7o/assets\n"
     ]
    },
    {
     "name": "stdout",
     "output_type": "stream",
     "text": [
      "Saved artifact at '/var/folders/c7/01xzhz690mj0sss9z1vdfwqc0000gn/T/tmpf5tz0f7o'. The following endpoints are available:\n",
      "\n",
      "* Endpoint 'serve'\n",
      "  args_0 (POSITIONAL_ONLY): TensorSpec(shape=(None, 180), dtype=tf.float32, name='keras_tensor_6')\n",
      "Output Type:\n",
      "  TensorSpec(shape=(None, 2), dtype=tf.float32, name=None)\n",
      "Captures:\n",
      "  13011985296: TensorSpec(shape=(), dtype=tf.resource, name=None)\n",
      "  13011987600: TensorSpec(shape=(), dtype=tf.resource, name=None)\n",
      "  13011987984: TensorSpec(shape=(), dtype=tf.resource, name=None)\n",
      "  13011988944: TensorSpec(shape=(), dtype=tf.resource, name=None)\n",
      "  13011989328: TensorSpec(shape=(), dtype=tf.resource, name=None)\n",
      "  13011990288: TensorSpec(shape=(), dtype=tf.resource, name=None)\n",
      "  13011989712: TensorSpec(shape=(), dtype=tf.resource, name=None)\n",
      "  13011991056: TensorSpec(shape=(), dtype=tf.resource, name=None)\n"
     ]
    },
    {
     "name": "stderr",
     "output_type": "stream",
     "text": [
      "W0000 00:00:1733840821.897145 4200472 tf_tfl_flatbuffer_helpers.cc:365] Ignored output_format.\n",
      "W0000 00:00:1733840821.897165 4200472 tf_tfl_flatbuffer_helpers.cc:368] Ignored drop_control_dependency.\n",
      "2024-12-10 15:27:01.897278: I tensorflow/cc/saved_model/reader.cc:83] Reading SavedModel from: /var/folders/c7/01xzhz690mj0sss9z1vdfwqc0000gn/T/tmpf5tz0f7o\n",
      "2024-12-10 15:27:01.897661: I tensorflow/cc/saved_model/reader.cc:52] Reading meta graph with tags { serve }\n",
      "2024-12-10 15:27:01.897666: I tensorflow/cc/saved_model/reader.cc:147] Reading SavedModel debug info (if present) from: /var/folders/c7/01xzhz690mj0sss9z1vdfwqc0000gn/T/tmpf5tz0f7o\n",
      "2024-12-10 15:27:01.900971: I tensorflow/cc/saved_model/loader.cc:236] Restoring SavedModel bundle.\n",
      "2024-12-10 15:27:01.922081: I tensorflow/cc/saved_model/loader.cc:220] Running initialization op on SavedModel bundle at path: /var/folders/c7/01xzhz690mj0sss9z1vdfwqc0000gn/T/tmpf5tz0f7o\n",
      "2024-12-10 15:27:01.928804: I tensorflow/cc/saved_model/loader.cc:466] SavedModel load for tags { serve }; Status: success: OK. Took 31526 microseconds.\n"
     ]
    },
    {
     "name": "stdout",
     "output_type": "stream",
     "text": [
      "Quanized model len:  124696\n",
      "Compression ratio:  3.635337139924296\n"
     ]
    }
   ],
   "source": [
    "nn = nn_model.model\n",
    "\n",
    "# Convert to tflite\n",
    "converter = tf.lite.TFLiteConverter.from_keras_model(nn)\n",
    "tflite_model = converter.convert()\n",
    "print(\"Non-quanized model len: \", len(tflite_model))\n",
    "\n",
    "# Convert with quantization\n",
    "converter = tf.lite.TFLiteConverter.from_keras_model(nn)\n",
    "converter.optimizations = [tf.lite.Optimize.DEFAULT]\n",
    "tflite_quant_model = converter.convert()\n",
    "print(\"Quanized model len: \", len(tflite_quant_model))\n",
    "\n",
    "print(\"Compression ratio: \", len(tflite_model) / len(tflite_quant_model))\n"
   ]
  }
 ],
 "metadata": {
  "kernelspec": {
   "display_name": "exercise",
   "language": "python",
   "name": "python3"
  },
  "language_info": {
   "codemirror_mode": {
    "name": "ipython",
    "version": 3
   },
   "file_extension": ".py",
   "mimetype": "text/x-python",
   "name": "python",
   "nbconvert_exporter": "python",
   "pygments_lexer": "ipython3",
   "version": "3.11.10"
  }
 },
 "nbformat": 4,
 "nbformat_minor": 2
}
